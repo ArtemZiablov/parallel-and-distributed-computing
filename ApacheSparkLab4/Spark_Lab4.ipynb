{
  "nbformat": 4,
  "nbformat_minor": 0,
  "metadata": {
    "colab": {
      "provenance": []
    },
    "kernelspec": {
      "name": "python3",
      "display_name": "Python 3"
    },
    "language_info": {
      "name": "python"
    }
  },
  "cells": [
    {
      "cell_type": "code",
      "execution_count": 25,
      "metadata": {
        "colab": {
          "base_uri": "https://localhost:8080/"
        },
        "id": "KuYWwlrPc9A6",
        "outputId": "979a814b-9922-430c-a354-647c7ece0222"
      },
      "outputs": [
        {
          "output_type": "stream",
          "name": "stdout",
          "text": [
            "Number of triangles: 318\n"
          ]
        }
      ],
      "source": [
        "from pyspark import SparkContext\n",
        "from itertools import combinations\n",
        "\n",
        "# Перевірка, чи є активний SparkContext, і використання його, якщо він доступний\n",
        "from pyspark import SparkContext\n",
        "try:\n",
        "    sc = SparkContext.getOrCreate()\n",
        "except ValueError:\n",
        "    sc = SparkContext(\"local\", \"TriangleCount\")\n",
        "\n",
        "# Завантаження ребер з текстового файлу\n",
        "lines = sc.textFile(\"/mnt/data/graph.txt\")\n",
        "\n",
        "# Створення RDD(Resilient Distributed Dataset) з ребер\n",
        "edges = lines.map(lambda line: tuple(sorted(map(int, line.split()))))\n",
        "\n",
        "# Видалення дублікатів ребер, якщо такі є\n",
        "edges = edges.distinct()\n",
        "\n",
        "# Створення RDD з пар (вершина, сусід)\n",
        "neighbors = edges.flatMap(lambda edge: [(edge[0], edge[1]), (edge[1], edge[0])])\n",
        "\n",
        "# Групування за ключем для отримання списків суміжності\n",
        "adjacency_list = neighbors.groupByKey().mapValues(set).collectAsMap()\n",
        "\n",
        "# Передача списку суміжності для уникнення посилань на RDD всередині трансформацій\n",
        "adjacency_list_broadcast = sc.broadcast(adjacency_list)\n",
        "\n",
        "# Пошук трикутників - виправлена логіка для перевірки всіх ребер трикутника\n",
        "triangles = edges.flatMap(\n",
        "    lambda edge: [\n",
        "        (edge[0], edge[1], v) for v in adjacency_list_broadcast.value[edge[0]]\n",
        "        if v != edge[1] and v in adjacency_list_broadcast.value[edge[1]]\n",
        "    ]\n",
        ")\n",
        "\n",
        "# Підрахунок кількості унікальних трикутників\n",
        "triangle_count = triangles.map(lambda x: tuple(sorted([x[0], x[1], x[2]]))).distinct().count()\n",
        "\n",
        "print(f\"Number of triangles: {triangle_count}\")\n",
        "\n",
        "# Зупинка SparkContext\n",
        "sc.stop()\n"
      ]
    }
  ]
}